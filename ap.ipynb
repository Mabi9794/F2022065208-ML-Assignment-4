{
  "nbformat": 4,
  "nbformat_minor": 0,
  "metadata": {
    "colab": {
      "provenance": []
    },
    "kernelspec": {
      "name": "python3",
      "display_name": "Python 3"
    },
    "language_info": {
      "name": "python"
    }
  },
  "cells": [
    {
      "cell_type": "code",
      "execution_count": null,
      "metadata": {
        "id": "BkCzruoCExyW"
      },
      "outputs": [],
      "source": [
        "import streamlit as st\n",
        "import pandas as pd\n",
        "import pickle\n",
        "\n",
        "# Load the pre-trained SVM model\n",
        "with open(\"svm_model.pkl\", \"rb\") as model_file:\n",
        "    model = pickle.load(model_file)\n",
        "\n",
        "# Title of the application\n",
        "st.title(\"SVM Prediction Application\")\n",
        "\n",
        "# Sidebar for user input\n",
        "st.sidebar.header(\"Input Parameters\")\n",
        "st.sidebar.markdown(\"Please provide input data for prediction below.\")\n",
        "\n",
        "# Input form\n",
        "def user_input_features():\n",
        "    Gender = st.sidebar.selectbox(\"Gender\", (\"Male\", \"Female\"))\n",
        "    Age = st.sidebar.slider(\"Age\", 18, 60, 30)\n",
        "    EstimatedSalary = st.sidebar.slider(\"Estimated Salary\", 15000, 150000, 70000)\n",
        "\n",
        "    # Convert Gender to numeric\n",
        "    Gender_numeric = 1 if Gender == \"Male\" else 0\n",
        "\n",
        "    # Create input DataFrame\n",
        "    data = {\n",
        "        \"Gender\": Gender_numeric,\n",
        "        \"Age\": Age,\n",
        "        \"EstimatedSalary\": EstimatedSalary,\n",
        "    }\n",
        "    return pd.DataFrame(data, index=[0])\n",
        "\n",
        "# Get user input\n",
        "input_df = user_input_features()\n",
        "\n",
        "# Display user input\n",
        "st.subheader(\"User Input\")\n",
        "st.write(input_df)\n",
        "\n",
        "# Make prediction\n",
        "if st.button(\"Predict\"):\n",
        "    prediction = model.predict(input_df)\n",
        "    result = \"Purchased\" if prediction[0] == 1 else \"Not Purchased\"\n",
        "\n",
        "    # Display prediction result\n",
        "    st.subheader(\"Prediction Result\")\n",
        "    st.write(f\"The predicted outcome is: **{result}**\")\n",
        "\n",
        "# Footer\n",
        "st.markdown(\"---\")\n",
        "st.markdown(\"Developed as part of Machine Learning Assignment 4, Fall 2024.\")\n"
      ]
    }
  ]
}